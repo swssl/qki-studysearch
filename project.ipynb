{
 "cells": [
  {
   "cell_type": "markdown",
   "id": "ae6f6974",
   "metadata": {
    "editable": true,
    "slideshow": {
     "slide_type": "slide"
    },
    "tags": []
   },
   "source": [
    "# Erklärbare KI\n",
    "\n",
    "## `Einbindung von externen Wissensbasen`"
   ]
  },
  {
   "cell_type": "markdown",
   "id": "31bf4268",
   "metadata": {
    "editable": true,
    "slideshow": {
     "slide_type": "slide"
    },
    "tags": []
   },
   "source": [
    "## Inhaltsverzeichnis\n",
    "\n"
   ]
  },
  {
   "cell_type": "markdown",
   "id": "afaaa1a3",
   "metadata": {
    "editable": true,
    "slideshow": {
     "slide_type": "slide"
    },
    "tags": []
   },
   "source": [
    "### Beschreibung der Methode\n",
    "\n",
    "+ Grundlegend: Vorhandensein einer Wissensbasis\n",
    "+ Erster Schritt: Wissensbasis wird während des Trainings genutzt, um das Modell zu erstellen\n",
    "+ Zweiter Schritt: Vom KI-Modell getroffene Entscheidungen mit konkreten Einträgen in der Wissensbasis begründen zu können"
   ]
  },
  {
   "cell_type": "markdown",
   "id": "9b2aa87e",
   "metadata": {
    "editable": true,
    "slideshow": {
     "slide_type": "slide"
    },
    "tags": []
   },
   "source": [
    "### Allgemeines\n",
    "\n",
    "+ Die Ausgabe der KI ist eine Entscheidung und zusätzlich eine Erklärung der Entscheidung\n",
    "+ Methode ist auf alle Klassifikationsverfahren anwendbar\n",
    "+ Funktioniert am besten für Klassifikationsprobleme, bei denen Texte als Inputs verwenden werden\n"
   ]
  },
  {
   "cell_type": "markdown",
   "id": "11363d16",
   "metadata": {
    "editable": true,
    "slideshow": {
     "slide_type": "slide"
    },
    "tags": []
   },
   "source": [
    "### Vorteile\n",
    "+ Leicht nachvollziehbar \n",
    "+ Kombination mehrerer Wissensbasen möglich\n",
    "+ Erhöht Vertrauen\n",
    "+ Hilft bei der Frage nach der  Verantwortlichkeit\n",
    "\n",
    "### Nachteile\n",
    "\n",
    "+ Abhängig von Qualität der Wissensbasis\n",
    "+ Aufbau der Wissensbasis zeitaufwendig\n"
   ]
  },
  {
   "cell_type": "markdown",
   "id": "2e693602",
   "metadata": {
    "editable": true,
    "slideshow": {
     "slide_type": "slide"
    },
    "tags": []
   },
   "source": [
    "### Beispiele\n",
    "\n",
    "+ Medizinische Anwendung\n",
    "    + anhand von Symptomen Krankheit vorhersagen und anschließend Vorhersage mit Publikationen unterstützen\n",
    "+ Home-Automation\n",
    "+ Bilderkennung\n"
   ]
  },
  {
   "cell_type": "markdown",
   "id": "65d332f7",
   "metadata": {
    "editable": true,
    "slideshow": {
     "slide_type": "slide"
    },
    "tags": []
   },
   "source": [
    "## 1. Imports"
   ]
  },
  {
   "cell_type": "code",
   "execution_count": 32,
   "id": "c44f47e8",
   "metadata": {
    "editable": true,
    "slideshow": {
     "slide_type": "fragment"
    },
    "tags": []
   },
   "outputs": [],
   "source": [
    "import pickle\n",
    "from rich.console import Console\n",
    "from rich.table import Table\n",
    "from tabulate import tabulate\n",
    "import pandas as pd\n",
    "from studysearch.run import run as run_studysearch"
   ]
  },
  {
   "cell_type": "markdown",
   "id": "35bf6fd4",
   "metadata": {
    "editable": true,
    "slideshow": {
     "slide_type": "subslide"
    },
    "tags": []
   },
   "source": [
    "## 2. Anfrage an das LLM"
   ]
  },
  {
   "cell_type": "code",
   "execution_count": 9,
   "id": "f72a0123",
   "metadata": {
    "editable": true,
    "slideshow": {
     "slide_type": "fragment"
    },
    "tags": []
   },
   "outputs": [],
   "source": [
    "resp = run_studysearch(input=\"Worum geht es in dem Studiengang Digitale Technologien?\")\n",
    "print(resp)\n",
    "pickle.dump(resp, open(\"./resp.pkl\", \"wb\"))"
   ]
  },
  {
   "cell_type": "markdown",
   "id": "33c89312",
   "metadata": {
    "editable": true,
    "slideshow": {
     "slide_type": "subslide"
    },
    "tags": []
   },
   "source": [
    "### 2.2 Import einer gesicherten Antwort"
   ]
  },
  {
   "cell_type": "code",
   "execution_count": 22,
   "id": "a1517001",
   "metadata": {
    "editable": true,
    "slideshow": {
     "slide_type": "fragment"
    },
    "tags": []
   },
   "outputs": [],
   "source": [
    "resp = pickle.load(open(\"resp.pkl\", \"rb\"))"
   ]
  },
  {
   "cell_type": "markdown",
   "id": "952b5a3e",
   "metadata": {
    "editable": true,
    "slideshow": {
     "slide_type": "subslide"
    },
    "tags": []
   },
   "source": [
    "## 3. Ausgabe"
   ]
  },
  {
   "cell_type": "code",
   "execution_count": 23,
   "id": "3f3b5f9b",
   "metadata": {
    "editable": true,
    "slideshow": {
     "slide_type": "fragment"
    },
    "tags": []
   },
   "outputs": [],
   "source": [
    "def rich_print(resp: dict) -> None:\n",
    "    \"\"\"Darstellung des Ergebnisses mittels Rich Text Format.\n",
    "\n",
    "    Args:\n",
    "        resp (dict): The response object with query, result and source_documents keys\n",
    "    \"\"\"\n",
    "    table = Table(width=70)\n",
    "    table.add_column(\"Query\", style=\"cyan\", no_wrap=False)\n",
    "    table.add_column(\"Result\", style=\"magenta\")\n",
    "    table.add_column(\"Source Documents\", style=\"green\")\n",
    "    table.add_row(resp[\"query\"], resp[\"result\"], None)\n",
    "    for src in resp[\"source_documents\"]:\n",
    "        table.add_row(None, None, f\"{src.metadata['source']}\\n\")\n",
    "    console = Console()\n",
    "    console.print(table)"
   ]
  },
  {
   "cell_type": "code",
   "execution_count": 24,
   "id": "30b1a219-5bd1-4824-9669-48d5ea284959",
   "metadata": {
    "editable": true,
    "scrolled": true,
    "slideshow": {
     "slide_type": "subslide"
    },
    "tags": []
   },
   "outputs": [
    {
     "data": {
      "text/html": [
       "<pre style=\"white-space:pre;overflow-x:auto;line-height:normal;font-family:Menlo,'DejaVu Sans Mono',consolas,'Courier New',monospace\">┏━━━━━━━━━━━━━━━━━━━━━━┳━━━━━━━━━━━━━━━━━━━━━━┳━━━━━━━━━━━━━━━━━━━━━━┓\n",
       "┃<span style=\"font-weight: bold\"> Query                </span>┃<span style=\"font-weight: bold\"> Result               </span>┃<span style=\"font-weight: bold\"> Source Documents     </span>┃\n",
       "┡━━━━━━━━━━━━━━━━━━━━━━╇━━━━━━━━━━━━━━━━━━━━━━╇━━━━━━━━━━━━━━━━━━━━━━┩\n",
       "│<span style=\"color: #008080; text-decoration-color: #008080\"> Worum geht es in dem </span>│<span style=\"color: #800080; text-decoration-color: #800080\"> The study program    </span>│<span style=\"color: #008000; text-decoration-color: #008000\">                      </span>│\n",
       "│<span style=\"color: #008080; text-decoration-color: #008080\"> Studiengang Digitale </span>│<span style=\"color: #800080; text-decoration-color: #800080\"> \"Digitale            </span>│<span style=\"color: #008000; text-decoration-color: #008000\">                      </span>│\n",
       "│<span style=\"color: #008080; text-decoration-color: #008080\"> Technologien?        </span>│<span style=\"color: #800080; text-decoration-color: #800080\"> Technologien         </span>│<span style=\"color: #008000; text-decoration-color: #008000\">                      </span>│\n",
       "│<span style=\"color: #008080; text-decoration-color: #008080\">                      </span>│<span style=\"color: #800080; text-decoration-color: #800080\"> (praxisintegriert)\"  </span>│<span style=\"color: #008000; text-decoration-color: #008000\">                      </span>│\n",
       "│<span style=\"color: #008080; text-decoration-color: #008080\">                      </span>│<span style=\"color: #800080; text-decoration-color: #800080\"> focuses on the       </span>│<span style=\"color: #008000; text-decoration-color: #008000\">                      </span>│\n",
       "│<span style=\"color: #008080; text-decoration-color: #008080\">                      </span>│<span style=\"color: #800080; text-decoration-color: #800080\"> practical            </span>│<span style=\"color: #008000; text-decoration-color: #008000\">                      </span>│\n",
       "│<span style=\"color: #008080; text-decoration-color: #008080\">                      </span>│<span style=\"color: #800080; text-decoration-color: #800080\"> application of       </span>│<span style=\"color: #008000; text-decoration-color: #008000\">                      </span>│\n",
       "│<span style=\"color: #008080; text-decoration-color: #008080\">                      </span>│<span style=\"color: #800080; text-decoration-color: #800080\"> digital technologies </span>│<span style=\"color: #008000; text-decoration-color: #008000\">                      </span>│\n",
       "│<span style=\"color: #008080; text-decoration-color: #008080\">                      </span>│<span style=\"color: #800080; text-decoration-color: #800080\"> in various fields,   </span>│<span style=\"color: #008000; text-decoration-color: #008000\">                      </span>│\n",
       "│<span style=\"color: #008080; text-decoration-color: #008080\">                      </span>│<span style=\"color: #800080; text-decoration-color: #800080\"> such as software     </span>│<span style=\"color: #008000; text-decoration-color: #008000\">                      </span>│\n",
       "│<span style=\"color: #008080; text-decoration-color: #008080\">                      </span>│<span style=\"color: #800080; text-decoration-color: #800080\"> development, data    </span>│<span style=\"color: #008000; text-decoration-color: #008000\">                      </span>│\n",
       "│<span style=\"color: #008080; text-decoration-color: #008080\">                      </span>│<span style=\"color: #800080; text-decoration-color: #800080\"> analytics,           </span>│<span style=\"color: #008000; text-decoration-color: #008000\">                      </span>│\n",
       "│<span style=\"color: #008080; text-decoration-color: #008080\">                      </span>│<span style=\"color: #800080; text-decoration-color: #800080\"> cybersecurity, and   </span>│<span style=\"color: #008000; text-decoration-color: #008000\">                      </span>│\n",
       "│<span style=\"color: #008080; text-decoration-color: #008080\">                      </span>│<span style=\"color: #800080; text-decoration-color: #800080\"> more. The course     </span>│<span style=\"color: #008000; text-decoration-color: #008000\">                      </span>│\n",
       "│<span style=\"color: #008080; text-decoration-color: #008080\">                      </span>│<span style=\"color: #800080; text-decoration-color: #800080\"> aims to provide      </span>│<span style=\"color: #008000; text-decoration-color: #008000\">                      </span>│\n",
       "│<span style=\"color: #008080; text-decoration-color: #008080\">                      </span>│<span style=\"color: #800080; text-decoration-color: #800080\"> students with a      </span>│<span style=\"color: #008000; text-decoration-color: #008000\">                      </span>│\n",
       "│<span style=\"color: #008080; text-decoration-color: #008080\">                      </span>│<span style=\"color: #800080; text-decoration-color: #800080\"> comprehensive        </span>│<span style=\"color: #008000; text-decoration-color: #008000\">                      </span>│\n",
       "│<span style=\"color: #008080; text-decoration-color: #008080\">                      </span>│<span style=\"color: #800080; text-decoration-color: #800080\"> understanding of the </span>│<span style=\"color: #008000; text-decoration-color: #008000\">                      </span>│\n",
       "│<span style=\"color: #008080; text-decoration-color: #008080\">                      </span>│<span style=\"color: #800080; text-decoration-color: #800080\"> theoretical          </span>│<span style=\"color: #008000; text-decoration-color: #008000\">                      </span>│\n",
       "│<span style=\"color: #008080; text-decoration-color: #008080\">                      </span>│<span style=\"color: #800080; text-decoration-color: #800080\"> foundations of       </span>│<span style=\"color: #008000; text-decoration-color: #008000\">                      </span>│\n",
       "│<span style=\"color: #008080; text-decoration-color: #008080\">                      </span>│<span style=\"color: #800080; text-decoration-color: #800080\"> digital technologies </span>│<span style=\"color: #008000; text-decoration-color: #008000\">                      </span>│\n",
       "│<span style=\"color: #008080; text-decoration-color: #008080\">                      </span>│<span style=\"color: #800080; text-decoration-color: #800080\"> and their practical  </span>│<span style=\"color: #008000; text-decoration-color: #008000\">                      </span>│\n",
       "│<span style=\"color: #008080; text-decoration-color: #008080\">                      </span>│<span style=\"color: #800080; text-decoration-color: #800080\"> applications in      </span>│<span style=\"color: #008000; text-decoration-color: #008000\">                      </span>│\n",
       "│<span style=\"color: #008080; text-decoration-color: #008080\">                      </span>│<span style=\"color: #800080; text-decoration-color: #800080\"> real-world           </span>│<span style=\"color: #008000; text-decoration-color: #008000\">                      </span>│\n",
       "│<span style=\"color: #008080; text-decoration-color: #008080\">                      </span>│<span style=\"color: #800080; text-decoration-color: #800080\"> scenarios.           </span>│<span style=\"color: #008000; text-decoration-color: #008000\">                      </span>│\n",
       "│<span style=\"color: #008080; text-decoration-color: #008080\">                      </span>│<span style=\"color: #800080; text-decoration-color: #800080\">                      </span>│<span style=\"color: #008000; text-decoration-color: #008000\"> data/Studiengangspr… </span>│\n",
       "│<span style=\"color: #008080; text-decoration-color: #008080\">                      </span>│<span style=\"color: #800080; text-decoration-color: #800080\">                      </span>│<span style=\"color: #008000; text-decoration-color: #008000\"> und Modulhandbuch    </span>│\n",
       "│<span style=\"color: #008080; text-decoration-color: #008080\">                      </span>│<span style=\"color: #800080; text-decoration-color: #800080\">                      </span>│<span style=\"color: #008000; text-decoration-color: #008000\"> Bachelor Digitale    </span>│\n",
       "│<span style=\"color: #008080; text-decoration-color: #008080\">                      </span>│<span style=\"color: #800080; text-decoration-color: #800080\">                      </span>│<span style=\"color: #008000; text-decoration-color: #008000\"> Technologien         </span>│\n",
       "│<span style=\"color: #008080; text-decoration-color: #008080\">                      </span>│<span style=\"color: #800080; text-decoration-color: #800080\">                      </span>│<span style=\"color: #008000; text-decoration-color: #008000\"> praxisintegriert     </span>│\n",
       "│<span style=\"color: #008080; text-decoration-color: #008080\">                      </span>│<span style=\"color: #800080; text-decoration-color: #800080\">                      </span>│<span style=\"color: #008000; text-decoration-color: #008000\"> Version 18.pdf       </span>│\n",
       "│<span style=\"color: #008080; text-decoration-color: #008080\">                      </span>│<span style=\"color: #800080; text-decoration-color: #800080\">                      </span>│<span style=\"color: #008000; text-decoration-color: #008000\">                      </span>│\n",
       "│<span style=\"color: #008080; text-decoration-color: #008080\">                      </span>│<span style=\"color: #800080; text-decoration-color: #800080\">                      </span>│<span style=\"color: #008000; text-decoration-color: #008000\"> data/Studiengangspr… </span>│\n",
       "│<span style=\"color: #008080; text-decoration-color: #008080\">                      </span>│<span style=\"color: #800080; text-decoration-color: #800080\">                      </span>│<span style=\"color: #008000; text-decoration-color: #008000\"> und Modulhandbuch    </span>│\n",
       "│<span style=\"color: #008080; text-decoration-color: #008080\">                      </span>│<span style=\"color: #800080; text-decoration-color: #800080\">                      </span>│<span style=\"color: #008000; text-decoration-color: #008000\"> Bachelor Digitale    </span>│\n",
       "│<span style=\"color: #008080; text-decoration-color: #008080\">                      </span>│<span style=\"color: #800080; text-decoration-color: #800080\">                      </span>│<span style=\"color: #008000; text-decoration-color: #008000\"> Technologien         </span>│\n",
       "│<span style=\"color: #008080; text-decoration-color: #008080\">                      </span>│<span style=\"color: #800080; text-decoration-color: #800080\">                      </span>│<span style=\"color: #008000; text-decoration-color: #008000\"> praxisintegriert     </span>│\n",
       "│<span style=\"color: #008080; text-decoration-color: #008080\">                      </span>│<span style=\"color: #800080; text-decoration-color: #800080\">                      </span>│<span style=\"color: #008000; text-decoration-color: #008000\"> Version 18.pdf       </span>│\n",
       "│<span style=\"color: #008080; text-decoration-color: #008080\">                      </span>│<span style=\"color: #800080; text-decoration-color: #800080\">                      </span>│<span style=\"color: #008000; text-decoration-color: #008000\">                      </span>│\n",
       "└──────────────────────┴──────────────────────┴──────────────────────┘\n",
       "</pre>\n"
      ],
      "text/plain": [
       "┏━━━━━━━━━━━━━━━━━━━━━━┳━━━━━━━━━━━━━━━━━━━━━━┳━━━━━━━━━━━━━━━━━━━━━━┓\n",
       "┃\u001b[1m \u001b[0m\u001b[1mQuery               \u001b[0m\u001b[1m \u001b[0m┃\u001b[1m \u001b[0m\u001b[1mResult              \u001b[0m\u001b[1m \u001b[0m┃\u001b[1m \u001b[0m\u001b[1mSource Documents    \u001b[0m\u001b[1m \u001b[0m┃\n",
       "┡━━━━━━━━━━━━━━━━━━━━━━╇━━━━━━━━━━━━━━━━━━━━━━╇━━━━━━━━━━━━━━━━━━━━━━┩\n",
       "│\u001b[36m \u001b[0m\u001b[36mWorum geht es in dem\u001b[0m\u001b[36m \u001b[0m│\u001b[35m \u001b[0m\u001b[35mThe study program   \u001b[0m\u001b[35m \u001b[0m│\u001b[32m \u001b[0m\u001b[32m                    \u001b[0m\u001b[32m \u001b[0m│\n",
       "│\u001b[36m \u001b[0m\u001b[36mStudiengang Digitale\u001b[0m\u001b[36m \u001b[0m│\u001b[35m \u001b[0m\u001b[35m\"Digitale           \u001b[0m\u001b[35m \u001b[0m│\u001b[32m                      \u001b[0m│\n",
       "│\u001b[36m \u001b[0m\u001b[36mTechnologien?       \u001b[0m\u001b[36m \u001b[0m│\u001b[35m \u001b[0m\u001b[35mTechnologien        \u001b[0m\u001b[35m \u001b[0m│\u001b[32m                      \u001b[0m│\n",
       "│\u001b[36m                      \u001b[0m│\u001b[35m \u001b[0m\u001b[35m(praxisintegriert)\" \u001b[0m\u001b[35m \u001b[0m│\u001b[32m                      \u001b[0m│\n",
       "│\u001b[36m                      \u001b[0m│\u001b[35m \u001b[0m\u001b[35mfocuses on the      \u001b[0m\u001b[35m \u001b[0m│\u001b[32m                      \u001b[0m│\n",
       "│\u001b[36m                      \u001b[0m│\u001b[35m \u001b[0m\u001b[35mpractical           \u001b[0m\u001b[35m \u001b[0m│\u001b[32m                      \u001b[0m│\n",
       "│\u001b[36m                      \u001b[0m│\u001b[35m \u001b[0m\u001b[35mapplication of      \u001b[0m\u001b[35m \u001b[0m│\u001b[32m                      \u001b[0m│\n",
       "│\u001b[36m                      \u001b[0m│\u001b[35m \u001b[0m\u001b[35mdigital technologies\u001b[0m\u001b[35m \u001b[0m│\u001b[32m                      \u001b[0m│\n",
       "│\u001b[36m                      \u001b[0m│\u001b[35m \u001b[0m\u001b[35min various fields,  \u001b[0m\u001b[35m \u001b[0m│\u001b[32m                      \u001b[0m│\n",
       "│\u001b[36m                      \u001b[0m│\u001b[35m \u001b[0m\u001b[35msuch as software    \u001b[0m\u001b[35m \u001b[0m│\u001b[32m                      \u001b[0m│\n",
       "│\u001b[36m                      \u001b[0m│\u001b[35m \u001b[0m\u001b[35mdevelopment, data   \u001b[0m\u001b[35m \u001b[0m│\u001b[32m                      \u001b[0m│\n",
       "│\u001b[36m                      \u001b[0m│\u001b[35m \u001b[0m\u001b[35manalytics,          \u001b[0m\u001b[35m \u001b[0m│\u001b[32m                      \u001b[0m│\n",
       "│\u001b[36m                      \u001b[0m│\u001b[35m \u001b[0m\u001b[35mcybersecurity, and  \u001b[0m\u001b[35m \u001b[0m│\u001b[32m                      \u001b[0m│\n",
       "│\u001b[36m                      \u001b[0m│\u001b[35m \u001b[0m\u001b[35mmore. The course    \u001b[0m\u001b[35m \u001b[0m│\u001b[32m                      \u001b[0m│\n",
       "│\u001b[36m                      \u001b[0m│\u001b[35m \u001b[0m\u001b[35maims to provide     \u001b[0m\u001b[35m \u001b[0m│\u001b[32m                      \u001b[0m│\n",
       "│\u001b[36m                      \u001b[0m│\u001b[35m \u001b[0m\u001b[35mstudents with a     \u001b[0m\u001b[35m \u001b[0m│\u001b[32m                      \u001b[0m│\n",
       "│\u001b[36m                      \u001b[0m│\u001b[35m \u001b[0m\u001b[35mcomprehensive       \u001b[0m\u001b[35m \u001b[0m│\u001b[32m                      \u001b[0m│\n",
       "│\u001b[36m                      \u001b[0m│\u001b[35m \u001b[0m\u001b[35munderstanding of the\u001b[0m\u001b[35m \u001b[0m│\u001b[32m                      \u001b[0m│\n",
       "│\u001b[36m                      \u001b[0m│\u001b[35m \u001b[0m\u001b[35mtheoretical         \u001b[0m\u001b[35m \u001b[0m│\u001b[32m                      \u001b[0m│\n",
       "│\u001b[36m                      \u001b[0m│\u001b[35m \u001b[0m\u001b[35mfoundations of      \u001b[0m\u001b[35m \u001b[0m│\u001b[32m                      \u001b[0m│\n",
       "│\u001b[36m                      \u001b[0m│\u001b[35m \u001b[0m\u001b[35mdigital technologies\u001b[0m\u001b[35m \u001b[0m│\u001b[32m                      \u001b[0m│\n",
       "│\u001b[36m                      \u001b[0m│\u001b[35m \u001b[0m\u001b[35mand their practical \u001b[0m\u001b[35m \u001b[0m│\u001b[32m                      \u001b[0m│\n",
       "│\u001b[36m                      \u001b[0m│\u001b[35m \u001b[0m\u001b[35mapplications in     \u001b[0m\u001b[35m \u001b[0m│\u001b[32m                      \u001b[0m│\n",
       "│\u001b[36m                      \u001b[0m│\u001b[35m \u001b[0m\u001b[35mreal-world          \u001b[0m\u001b[35m \u001b[0m│\u001b[32m                      \u001b[0m│\n",
       "│\u001b[36m                      \u001b[0m│\u001b[35m \u001b[0m\u001b[35mscenarios.          \u001b[0m\u001b[35m \u001b[0m│\u001b[32m                      \u001b[0m│\n",
       "│\u001b[36m \u001b[0m\u001b[36m                    \u001b[0m\u001b[36m \u001b[0m│\u001b[35m \u001b[0m\u001b[35m                    \u001b[0m\u001b[35m \u001b[0m│\u001b[32m \u001b[0m\u001b[32mdata/Studiengangspr…\u001b[0m\u001b[32m \u001b[0m│\n",
       "│\u001b[36m                      \u001b[0m│\u001b[35m                      \u001b[0m│\u001b[32m \u001b[0m\u001b[32mund Modulhandbuch   \u001b[0m\u001b[32m \u001b[0m│\n",
       "│\u001b[36m                      \u001b[0m│\u001b[35m                      \u001b[0m│\u001b[32m \u001b[0m\u001b[32mBachelor Digitale   \u001b[0m\u001b[32m \u001b[0m│\n",
       "│\u001b[36m                      \u001b[0m│\u001b[35m                      \u001b[0m│\u001b[32m \u001b[0m\u001b[32mTechnologien        \u001b[0m\u001b[32m \u001b[0m│\n",
       "│\u001b[36m                      \u001b[0m│\u001b[35m                      \u001b[0m│\u001b[32m \u001b[0m\u001b[32mpraxisintegriert    \u001b[0m\u001b[32m \u001b[0m│\n",
       "│\u001b[36m                      \u001b[0m│\u001b[35m                      \u001b[0m│\u001b[32m \u001b[0m\u001b[32mVersion 18.pdf      \u001b[0m\u001b[32m \u001b[0m│\n",
       "│\u001b[36m                      \u001b[0m│\u001b[35m                      \u001b[0m│\u001b[32m \u001b[0m\u001b[32m                    \u001b[0m\u001b[32m \u001b[0m│\n",
       "│\u001b[36m \u001b[0m\u001b[36m                    \u001b[0m\u001b[36m \u001b[0m│\u001b[35m \u001b[0m\u001b[35m                    \u001b[0m\u001b[35m \u001b[0m│\u001b[32m \u001b[0m\u001b[32mdata/Studiengangspr…\u001b[0m\u001b[32m \u001b[0m│\n",
       "│\u001b[36m                      \u001b[0m│\u001b[35m                      \u001b[0m│\u001b[32m \u001b[0m\u001b[32mund Modulhandbuch   \u001b[0m\u001b[32m \u001b[0m│\n",
       "│\u001b[36m                      \u001b[0m│\u001b[35m                      \u001b[0m│\u001b[32m \u001b[0m\u001b[32mBachelor Digitale   \u001b[0m\u001b[32m \u001b[0m│\n",
       "│\u001b[36m                      \u001b[0m│\u001b[35m                      \u001b[0m│\u001b[32m \u001b[0m\u001b[32mTechnologien        \u001b[0m\u001b[32m \u001b[0m│\n",
       "│\u001b[36m                      \u001b[0m│\u001b[35m                      \u001b[0m│\u001b[32m \u001b[0m\u001b[32mpraxisintegriert    \u001b[0m\u001b[32m \u001b[0m│\n",
       "│\u001b[36m                      \u001b[0m│\u001b[35m                      \u001b[0m│\u001b[32m \u001b[0m\u001b[32mVersion 18.pdf      \u001b[0m\u001b[32m \u001b[0m│\n",
       "│\u001b[36m                      \u001b[0m│\u001b[35m                      \u001b[0m│\u001b[32m \u001b[0m\u001b[32m                    \u001b[0m\u001b[32m \u001b[0m│\n",
       "└──────────────────────┴──────────────────────┴──────────────────────┘\n"
      ]
     },
     "metadata": {},
     "output_type": "display_data"
    }
   ],
   "source": [
    "rich_print(resp)"
   ]
  },
  {
   "cell_type": "code",
   "execution_count": 50,
   "id": "5ead172b-f50c-41e4-8194-8e9b04fcebd5",
   "metadata": {},
   "outputs": [
    {
     "data": {
      "text/html": [
       "<table>\n",
       "<thead>\n",
       "<tr><th>Query                                                  </th><th>Result                                                                                                                                                                                                                                                                                                                                                                                                     </th><th>Source Documents                                                                                                 </th></tr>\n",
       "</thead>\n",
       "<tbody>\n",
       "<tr><td>Worum geht es in dem Studiengang Digitale Technologien?</td><td>The study program &quot;Digitale Technologien (praxisintegriert)&quot; focuses on the practical application of digital technologies in various fields, such as software development, data analytics, cybersecurity, and more. The course aims to provide students with a comprehensive understanding of the theoretical foundations of digital technologies and their practical applications in real-world scenarios.</td><td>data/Studiengangsprüfungsordnung und Modulhandbuch Bachelor Digitale Technologien praxisintegriert Version 18.pdf</td></tr>\n",
       "</tbody>\n",
       "</table>"
      ],
      "text/plain": [
       "'<table>\\n<thead>\\n<tr><th>Query                                                  </th><th>Result                                                                                                                                                                                                                                                                                                                                                                                                     </th><th>Source Documents                                                                                                 </th></tr>\\n</thead>\\n<tbody>\\n<tr><td>Worum geht es in dem Studiengang Digitale Technologien?</td><td>The study program &quot;Digitale Technologien (praxisintegriert)&quot; focuses on the practical application of digital technologies in various fields, such as software development, data analytics, cybersecurity, and more. The course aims to provide students with a comprehensive understanding of the theoretical foundations of digital technologies and their practical applications in real-world scenarios.</td><td>data/Studiengangsprüfungsordnung und Modulhandbuch Bachelor Digitale Technologien praxisintegriert Version 18.pdf</td></tr>\\n</tbody>\\n</table>'"
      ]
     },
     "execution_count": 50,
     "metadata": {},
     "output_type": "execute_result"
    }
   ],
   "source": [
    "resp[\"source_documents\"] = [src.metadata['source'] for src in resp[\"source_documents\"]]\n",
    "resp_df = pd.DataFrame(resp).rename(columns={\"query\": \"Query\", \"result\": \"Result\", \"source_documents\": \"Source Documents\"})\n",
    "for i in range(1, len(resp[\"source_documents\"])):\n",
    "    resp_df.loc[i, \"Query\"] = \"\"\n",
    "    resp_df.loc[i, \"Result\"] = \"\"\n",
    "resp_df.drop_duplicates(subset=[\"Source Documents\"], inplace=True, keep=\"first\")\n",
    "# resp_df = resp_df.set_index([\"source_documents\"])\n",
    "tabulate(resp_df, tablefmt=\"html\", headers=\"keys\", showindex=False)"
   ]
  }
 ],
 "metadata": {
  "kernelspec": {
   "display_name": "Python 3 (ipykernel)",
   "language": "python",
   "name": "python3"
  },
  "language_info": {
   "codemirror_mode": {
    "name": "ipython",
    "version": 3
   },
   "file_extension": ".py",
   "mimetype": "text/x-python",
   "name": "python",
   "nbconvert_exporter": "python",
   "pygments_lexer": "ipython3",
   "version": "3.10.12"
  }
 },
 "nbformat": 4,
 "nbformat_minor": 5
}
