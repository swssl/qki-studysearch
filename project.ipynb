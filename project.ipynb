{
 "cells": [
  {
   "cell_type": "markdown",
   "id": "ae6f6974",
   "metadata": {
    "editable": true,
    "slideshow": {
     "slide_type": "slide"
    },
    "tags": []
   },
   "source": [
    "# Erklärbare KI\n",
    "\n",
    "## `Einbindung von externen Wissensbasen`"
   ]
  },
  {
   "cell_type": "markdown",
   "id": "31bf4268",
   "metadata": {
    "editable": true,
    "slideshow": {
     "slide_type": "slide"
    },
    "tags": []
   },
   "source": [
    "## Inhaltsverzeichnis\n",
    "\n"
   ]
  },
  {
   "cell_type": "markdown",
   "id": "c7420f64-49b6-45ef-80be-92daa23317c0",
   "metadata": {
    "editable": true,
    "slideshow": {
     "slide_type": ""
    },
    "tags": []
   },
   "source": [
    "1. Beschreibung der Methode\n",
    "2. Beispiele\n",
    "3. Praktische Umsetzung"
   ]
  },
  {
   "cell_type": "markdown",
   "id": "afaaa1a3",
   "metadata": {
    "editable": true,
    "slideshow": {
     "slide_type": "slide"
    },
    "tags": []
   },
   "source": [
    "### Beschreibung der Methode\n",
    "\n",
    "+ Grundlegend: Vorhandensein einer Wissensbasis\n",
    "+ Erster Schritt: Wissensbasis wird während des Trainings genutzt, um das Modell zu erstellen\n",
    "+ Zweiter Schritt: Vom KI-Modell getroffene Entscheidungen mit konkreten Einträgen in der Wissensbasis begründen zu können"
   ]
  },
  {
   "cell_type": "markdown",
   "id": "9b2aa87e",
   "metadata": {
    "editable": true,
    "slideshow": {
     "slide_type": "slide"
    },
    "tags": []
   },
   "source": [
    "### Allgemeines\n",
    "\n",
    "+ Die Ausgabe der KI ist eine Entscheidung und zusätzlich eine Erklärung der Entscheidung\n",
    "+ Methode ist auf alle Klassifikationsverfahren anwendbar\n",
    "+ Funktioniert am besten für Klassifikationsprobleme, bei denen Texte als Inputs verwenden werden\n"
   ]
  },
  {
   "cell_type": "markdown",
   "id": "11363d16",
   "metadata": {
    "editable": true,
    "slideshow": {
     "slide_type": "slide"
    },
    "tags": []
   },
   "source": [
    "### Vorteile\n",
    "+ Leicht nachvollziehbar \n",
    "+ Kombination mehrerer Wissensbasen möglich\n",
    "+ Erhöht Vertrauen\n",
    "+ Hilft bei der Frage nach der  Verantwortlichkeit\n",
    "\n",
    "### Nachteile\n",
    "\n",
    "+ Abhängig von Qualität der Wissensbasis\n",
    "+ Aufbau der Wissensbasis zeitaufwendig\n"
   ]
  },
  {
   "cell_type": "markdown",
   "id": "2e693602",
   "metadata": {
    "editable": true,
    "slideshow": {
     "slide_type": "slide"
    },
    "tags": []
   },
   "source": [
    "### Beispiele\n",
    "\n",
    "+ Medizinische Anwendung\n",
    "    + anhand von Symptomen Krankheit vorhersagen und anschließend Vorhersage mit Publikationen unterstützen\n",
    "+ Home-Automation\n",
    "+ Bilderkennung\n",
    "+ Juristische Entscheidungsfindung\n",
    "+ Empfehlungsdienste (Tourismus)"
   ]
  },
  {
   "cell_type": "markdown",
   "id": "65d332f7",
   "metadata": {
    "editable": true,
    "slideshow": {
     "slide_type": "slide"
    },
    "tags": []
   },
   "source": [
    "## Praktische Umsetzung\n",
    "Mittels Retrieval-augmented generation (RAG) und auf Basis von [Leun23] und Llama 2"
   ]
  },
  {
   "cell_type": "code",
   "execution_count": 1,
   "id": "c44f47e8",
   "metadata": {
    "editable": true,
    "slideshow": {
     "slide_type": "fragment"
    },
    "tags": []
   },
   "outputs": [],
   "source": [
    "import pickle\n",
    "from tabulate import tabulate\n",
    "import pandas as pd\n",
    "from studysearch.run import run as run_studysearch"
   ]
  },
  {
   "cell_type": "markdown",
   "id": "511f7f82",
   "metadata": {
    "editable": true,
    "slideshow": {
     "slide_type": "slide"
    },
    "tags": []
   },
   "source": [
    "## 2. Einlesen neuer Textdaten [Chas22]"
   ]
  },
  {
   "cell_type": "markdown",
   "id": "555fd691",
   "metadata": {
    "editable": true,
    "slideshow": {
     "slide_type": ""
    },
    "tags": []
   },
   "source": [
    "![](assets/rag_indexing-8160f90a90a33253d0154659cf7d453f.png)"
   ]
  },
  {
   "cell_type": "markdown",
   "id": "14a31c2c",
   "metadata": {
    "editable": true,
    "slideshow": {
     "slide_type": "subslide"
    },
    "tags": []
   },
   "source": [
    "Zum Einlesen neuer Dokumente wird das Skript `build_db.py` [Leun23] ausgeführt. Es ließt die vorhandenen Dokumente, teil den Text in sog. chunks ein und speichert die vektorisierten Textdaten mithilfe von [JoDJ19] in eine .faiss-Datei."
   ]
  },
  {
   "cell_type": "code",
   "execution_count": null,
   "id": "7119ae34",
   "metadata": {
    "editable": true,
    "slideshow": {
     "slide_type": ""
    },
    "tags": []
   },
   "outputs": [],
   "source": [
    "!python dp_build.py"
   ]
  },
  {
   "cell_type": "markdown",
   "id": "35bf6fd4",
   "metadata": {
    "editable": true,
    "slideshow": {
     "slide_type": "slide"
    },
    "tags": []
   },
   "source": [
    "## 2. Anfrage an das LLM [Chas22]"
   ]
  },
  {
   "cell_type": "markdown",
   "id": "44861a16",
   "metadata": {
    "editable": true,
    "slideshow": {
     "slide_type": ""
    },
    "tags": []
   },
   "source": [
    "![](assets/rag_retrieval_generation-1046a4668d6bb08786ef73c56d4f228a.png)"
   ]
  },
  {
   "cell_type": "code",
   "execution_count": null,
   "id": "54191689-888c-4f5d-a366-c14ad797279f",
   "metadata": {
    "editable": true,
    "slideshow": {
     "slide_type": "subslide"
    },
    "tags": []
   },
   "outputs": [],
   "source": [
    "resp = run_studysearch(input=\"Worum geht es in dem Studiengang Digitale Technologien?\")"
   ]
  },
  {
   "cell_type": "code",
   "execution_count": null,
   "id": "2f5b0b85-f458-46da-a642-6ab2ad31f3c2",
   "metadata": {
    "editable": true,
    "slideshow": {
     "slide_type": "skip"
    },
    "tags": []
   },
   "outputs": [],
   "source": [
    "pickle.dump(resp, open(\"./resp.pkl\", \"wb\"))"
   ]
  },
  {
   "cell_type": "markdown",
   "id": "33c89312",
   "metadata": {
    "editable": true,
    "slideshow": {
     "slide_type": "skip"
    },
    "tags": []
   },
   "source": [
    "### 2.2 Import einer zuvor gesicherten Antwort"
   ]
  },
  {
   "cell_type": "code",
   "execution_count": 2,
   "id": "a1517001",
   "metadata": {
    "editable": true,
    "slideshow": {
     "slide_type": "skip"
    },
    "tags": []
   },
   "outputs": [],
   "source": [
    "resp = pickle.load(open(\"resp.pkl\", \"rb\"))"
   ]
  },
  {
   "cell_type": "code",
   "execution_count": 3,
   "id": "233a23f0-cc50-4e57-b51f-89196e419257",
   "metadata": {
    "editable": true,
    "slideshow": {
     "slide_type": "subslide"
    },
    "tags": []
   },
   "outputs": [
    {
     "data": {
      "text/plain": [
       "{'query': 'Worum geht es in dem Studiengang Digitale Technologien?',\n",
       " 'result': 'The study program \"Digitale Technologien (praxisintegriert)\" focuses on the practical application of digital technologies in various fields, such as software development, data analytics, cybersecurity, and more. The course aims to provide students with a comprehensive understanding of the theoretical foundations of digital technologies and their practical applications in real-world scenarios.',\n",
       " 'source_documents': [Document(page_content='Digitale Technologien (praxisintegriert) B.Eng.  \\n9 Stellenwert der Note für die Endnote:  \\ngemäß BRPO  \\n10 Modulbeauftragte/r:  \\nProf. Dr. rer. oec. Pascal Reusch  \\n11 Sonstige Informationen:  \\n \\n12 Sprache:  \\ndeutsch', metadata={'source': 'data/Studiengangsprüfungsordnung und Modulhandbuch Bachelor Digitale Technologien praxisintegriert Version 18.pdf', 'page': 34}),\n",
       "  Document(page_content='Digitale Technologien (praxisintegriert) B.Eng.  \\n9 Stellenwert der Note für die Endnote:  \\n \\n10 Modulbeauftragte/r:  \\n- N. N.  \\n11 Sonstige Informationen:  \\n \\n12 Sprache:  \\ndeutsch', metadata={'source': 'data/Studiengangsprüfungsordnung und Modulhandbuch Bachelor Digitale Technologien praxisintegriert Version 18.pdf', 'page': 86})]}"
      ]
     },
     "execution_count": 3,
     "metadata": {},
     "output_type": "execute_result"
    }
   ],
   "source": [
    "resp"
   ]
  },
  {
   "cell_type": "markdown",
   "id": "952b5a3e",
   "metadata": {
    "editable": true,
    "slideshow": {
     "slide_type": "slide"
    },
    "tags": []
   },
   "source": [
    "## 3. Ausgabe"
   ]
  },
  {
   "cell_type": "markdown",
   "id": "b9d70009",
   "metadata": {
    "editable": true,
    "slideshow": {
     "slide_type": ""
    },
    "tags": []
   },
   "source": [
    "### 3.1 Definition einer Formatierungsfunktion"
   ]
  },
  {
   "cell_type": "markdown",
   "id": "2128ce10",
   "metadata": {
    "editable": true,
    "slideshow": {
     "slide_type": ""
    },
    "tags": []
   },
   "source": [
    "Um die Ausgabe der Antwort des LLM an die Jupyter Notebook-Umgebung anzupassen, wird die Funktion `display_response(resp_dict: dict)` definiert. Diese wandelt die Antwort in Form eines `dict` in HTML-Code um."
   ]
  },
  {
   "cell_type": "code",
   "execution_count": 2,
   "id": "5ead172b-f50c-41e4-8194-8e9b04fcebd5",
   "metadata": {
    "editable": true,
    "slideshow": {
     "slide_type": "fragment"
    },
    "tags": []
   },
   "outputs": [],
   "source": [
    "def display_response(resp_dict: dict) -> str:\n",
    "    \"\"\"Render response in HTML using pandas and tabulate.\n",
    "\n",
    "    Args:\n",
    "        resp_dict (dict): The raw response dict eiher unpickled or from the LLM\n",
    "\n",
    "    Returns:\n",
    "        str: tabulate-generated HTML code\n",
    "    \"\"\"\n",
    "    resp_dict = resp_dict.copy()\n",
    "    resp_dict[\"source_documents\"] = [src.metadata['source'] for src in resp_dict[\"source_documents\"]]\n",
    "    resp_df = pd.DataFrame(resp_dict).rename(columns={\"query\": \"Query\", \"result\": \"Result\", \"source_documents\": \"Source Documents\"})\n",
    "    for i in range(1, len(resp_dict[\"source_documents\"])):\n",
    "        resp_df.loc[i, \"Query\"] = \"\"\n",
    "        resp_df.loc[i, \"Result\"] = \"\"\n",
    "    resp_df.drop_duplicates(subset=[\"Source Documents\"], inplace=True, keep=\"first\")\n",
    "    return tabulate(resp_df, tablefmt=\"html\", headers=\"keys\", showindex=False)"
   ]
  },
  {
   "cell_type": "markdown",
   "id": "817bd6c4",
   "metadata": {
    "editable": true,
    "slideshow": {
     "slide_type": "slide"
    },
    "tags": []
   },
   "source": [
    "### 3.2 Ausgabe der Antwort"
   ]
  },
  {
   "cell_type": "markdown",
   "id": "a7a8b44b",
   "metadata": {},
   "source": [
    "Als Ergebnis erhält man neben der Antwort des LLM auch die Quell-Dokumente, die das Modell zum Finden der Antwort verwendet hat:"
   ]
  },
  {
   "cell_type": "code",
   "execution_count": 5,
   "id": "f322899d-761c-44d0-84a7-181dc814fd19",
   "metadata": {
    "editable": true,
    "slideshow": {
     "slide_type": ""
    },
    "tags": []
   },
   "outputs": [
    {
     "data": {
      "text/html": [
       "<table>\n",
       "<thead>\n",
       "<tr><th>Query                                                  </th><th>Result                                                                                                                                                                                                                                                                                                                                                                                                     </th><th>Source Documents                                                                                                 </th></tr>\n",
       "</thead>\n",
       "<tbody>\n",
       "<tr><td>Worum geht es in dem Studiengang Digitale Technologien?</td><td>The study program &quot;Digitale Technologien (praxisintegriert)&quot; focuses on the practical application of digital technologies in various fields, such as software development, data analytics, cybersecurity, and more. The course aims to provide students with a comprehensive understanding of the theoretical foundations of digital technologies and their practical applications in real-world scenarios.</td><td>data/Studiengangsprüfungsordnung und Modulhandbuch Bachelor Digitale Technologien praxisintegriert Version 18.pdf</td></tr>\n",
       "</tbody>\n",
       "</table>"
      ],
      "text/plain": [
       "'<table>\\n<thead>\\n<tr><th>Query                                                  </th><th>Result                                                                                                                                                                                                                                                                                                                                                                                                     </th><th>Source Documents                                                                                                 </th></tr>\\n</thead>\\n<tbody>\\n<tr><td>Worum geht es in dem Studiengang Digitale Technologien?</td><td>The study program &quot;Digitale Technologien (praxisintegriert)&quot; focuses on the practical application of digital technologies in various fields, such as software development, data analytics, cybersecurity, and more. The course aims to provide students with a comprehensive understanding of the theoretical foundations of digital technologies and their practical applications in real-world scenarios.</td><td>data/Studiengangsprüfungsordnung und Modulhandbuch Bachelor Digitale Technologien praxisintegriert Version 18.pdf</td></tr>\\n</tbody>\\n</table>'"
      ]
     },
     "execution_count": 5,
     "metadata": {},
     "output_type": "execute_result"
    }
   ],
   "source": [
    "display_response(resp)"
   ]
  },
  {
   "cell_type": "markdown",
   "id": "c005e53e-8041-4c50-b86f-a3f13c679b05",
   "metadata": {
    "editable": true,
    "slideshow": {
     "slide_type": "slide"
    },
    "tags": []
   },
   "source": [
    "## Beispiele"
   ]
  },
  {
   "cell_type": "code",
   "execution_count": 6,
   "id": "245de01b",
   "metadata": {
    "editable": true,
    "slideshow": {
     "slide_type": "skip"
    },
    "tags": []
   },
   "outputs": [
    {
     "data": {
      "text/html": [
       "<table>\n",
       "<thead>\n",
       "<tr><th>Query                                                  </th><th>Result                                                                                                                                                                                                                                                                                                                                                                                                     </th><th>Source Documents                                                                                                 </th></tr>\n",
       "</thead>\n",
       "<tbody>\n",
       "<tr><td>Worum geht es in dem Studiengang Digitale Technologien?</td><td>The study program &quot;Digitale Technologien (praxisintegriert)&quot; focuses on the practical application of digital technologies in various fields, such as software development, data analytics, cybersecurity, and more. The course aims to provide students with a comprehensive understanding of the theoretical foundations of digital technologies and their practical applications in real-world scenarios.</td><td>data/Studiengangsprüfungsordnung und Modulhandbuch Bachelor Digitale Technologien praxisintegriert Version 18.pdf</td></tr>\n",
       "</tbody>\n",
       "</table>"
      ],
      "text/plain": [
       "'<table>\\n<thead>\\n<tr><th>Query                                                  </th><th>Result                                                                                                                                                                                                                                                                                                                                                                                                     </th><th>Source Documents                                                                                                 </th></tr>\\n</thead>\\n<tbody>\\n<tr><td>Worum geht es in dem Studiengang Digitale Technologien?</td><td>The study program &quot;Digitale Technologien (praxisintegriert)&quot; focuses on the practical application of digital technologies in various fields, such as software development, data analytics, cybersecurity, and more. The course aims to provide students with a comprehensive understanding of the theoretical foundations of digital technologies and their practical applications in real-world scenarios.</td><td>data/Studiengangsprüfungsordnung und Modulhandbuch Bachelor Digitale Technologien praxisintegriert Version 18.pdf</td></tr>\\n</tbody>\\n</table>'"
      ]
     },
     "execution_count": 6,
     "metadata": {},
     "output_type": "execute_result"
    }
   ],
   "source": [
    "display_response(run_studysearch(input=\"Worum geht es in dem Studiengang Digitale Technologien?\"))"
   ]
  },
  {
   "cell_type": "code",
   "execution_count": 4,
   "id": "bf9e4e5b",
   "metadata": {
    "editable": true,
    "slideshow": {
     "slide_type": "subslide"
    },
    "tags": []
   },
   "outputs": [
    {
     "name": "stderr",
     "output_type": "stream",
     "text": [
      "/home/simon/Development/qki-studysearch/.venv/lib/python3.10/site-packages/tqdm/auto.py:21: TqdmWarning: IProgress not found. Please update jupyter and ipywidgets. See https://ipywidgets.readthedocs.io/en/stable/user_install.html\n",
      "  from .autonotebook import tqdm as notebook_tqdm\n"
     ]
    },
    {
     "data": {
      "text/html": [
       "<table>\n",
       "<thead>\n",
       "<tr><th>Query                                                                                                  </th><th>Result                                                                                                                                                                                                                                                                                                                                                                                                                                                                                                                                                                                                                                         </th><th>Source Documents                                                                                                       </th></tr>\n",
       "</thead>\n",
       "<tbody>\n",
       "<tr><td>Worum geht es in dem Modul Qualitätssicherung für KI-Systeme aus dem Studiengang Digitale Technologien?</td><td>In the module Quality Assurance for AI Systems, students learn about the importance of quality assurance in the development and deployment of AI systems. They will understand how to identify and mitigate potential risks associated with AI systems, such as bias, security, and privacy concerns. Additionally, they will learn how to design and implement quality control processes for AI systems, including testing, validation, and verification methods. The module will also cover the ethical considerations of AI system development and deployment, and how to ensure that AI systems are aligned with societal values and norms.</td><td>data/Studiengangsprüfungsordnung und Modulhandbuch Bachelor Wirtschaftsingenieurwesen praxisintegriert Version 18.pdf  </td></tr>\n",
       "<tr><td>                                                                                                       </td><td>                                                                                                                                                                                                                                                                                                                                                                                                                                                                                                                                                                                                                                               </td><td>data/Studiengangsprüfungsordnung und Modulhandbuch Bachelor Mechatronik_Automatisierung praxisintegriert Version 18.pdf</td></tr>\n",
       "</tbody>\n",
       "</table>"
      ],
      "text/plain": [
       "'<table>\\n<thead>\\n<tr><th>Query                                                                                                  </th><th>Result                                                                                                                                                                                                                                                                                                                                                                                                                                                                                                                                                                                                                                         </th><th>Source Documents                                                                                                       </th></tr>\\n</thead>\\n<tbody>\\n<tr><td>Worum geht es in dem Modul Qualitätssicherung für KI-Systeme aus dem Studiengang Digitale Technologien?</td><td>In the module Quality Assurance for AI Systems, students learn about the importance of quality assurance in the development and deployment of AI systems. They will understand how to identify and mitigate potential risks associated with AI systems, such as bias, security, and privacy concerns. Additionally, they will learn how to design and implement quality control processes for AI systems, including testing, validation, and verification methods. The module will also cover the ethical considerations of AI system development and deployment, and how to ensure that AI systems are aligned with societal values and norms.</td><td>data/Studiengangsprüfungsordnung und Modulhandbuch Bachelor Wirtschaftsingenieurwesen praxisintegriert Version 18.pdf  </td></tr>\\n<tr><td>                                                                                                       </td><td>                                                                                                                                                                                                                                                                                                                                                                                                                                                                                                                                                                                                                                               </td><td>data/Studiengangsprüfungsordnung und Modulhandbuch Bachelor Mechatronik_Automatisierung praxisintegriert Version 18.pdf</td></tr>\\n</tbody>\\n</table>'"
      ]
     },
     "execution_count": 4,
     "metadata": {},
     "output_type": "execute_result"
    }
   ],
   "source": [
    "display_response(run_studysearch(input=\"Worum geht es in dem Modul Qualitätssicherung für KI-Systeme aus dem Studiengang Digitale Technologien?\"))"
   ]
  },
  {
   "cell_type": "code",
   "execution_count": 5,
   "id": "c7b75031",
   "metadata": {
    "editable": true,
    "slideshow": {
     "slide_type": "subslide"
    },
    "tags": []
   },
   "outputs": [
    {
     "data": {
      "text/html": [
       "<table>\n",
       "<thead>\n",
       "<tr><th>Query                                                                                                              </th><th>Result                                                                                                                                       </th><th>Source Documents                                                                                            </th></tr>\n",
       "</thead>\n",
       "<tbody>\n",
       "<tr><td>What is the topic of the lecture Qualitaetssicherung für KI-Systeme from the course of study Digitale Technologien?</td><td>The topic of the lecture Qualitaetssicherung für KI-Systeme from the course of study Digitale Technologien is ensuring quality in AI systems.</td><td>data/Studiengangsprüfungsordnung für den Masterstudiengang Forschungsmaster Data Science.pdf                </td></tr>\n",
       "<tr><td>                                                                                                                   </td><td>                                                                                                                                             </td><td>data/Studiengangsprüfungsordnung und Modulhandbuch Bachelor Angewandte Hebammenwissenschaft Version 2022.pdf</td></tr>\n",
       "</tbody>\n",
       "</table>"
      ],
      "text/plain": [
       "'<table>\\n<thead>\\n<tr><th>Query                                                                                                              </th><th>Result                                                                                                                                       </th><th>Source Documents                                                                                            </th></tr>\\n</thead>\\n<tbody>\\n<tr><td>What is the topic of the lecture Qualitaetssicherung für KI-Systeme from the course of study Digitale Technologien?</td><td>The topic of the lecture Qualitaetssicherung für KI-Systeme from the course of study Digitale Technologien is ensuring quality in AI systems.</td><td>data/Studiengangsprüfungsordnung für den Masterstudiengang Forschungsmaster Data Science.pdf                </td></tr>\\n<tr><td>                                                                                                                   </td><td>                                                                                                                                             </td><td>data/Studiengangsprüfungsordnung und Modulhandbuch Bachelor Angewandte Hebammenwissenschaft Version 2022.pdf</td></tr>\\n</tbody>\\n</table>'"
      ]
     },
     "execution_count": 5,
     "metadata": {},
     "output_type": "execute_result"
    }
   ],
   "source": [
    "display_response(run_studysearch(input=\"What is the topic of the lecture Qualitaetssicherung für KI-Systeme from the course of study Digitale Technologien?\"))"
   ]
  },
  {
   "cell_type": "code",
   "execution_count": 6,
   "id": "29b31dd8",
   "metadata": {
    "editable": true,
    "slideshow": {
     "slide_type": "subslide"
    },
    "tags": []
   },
   "outputs": [
    {
     "data": {
      "text/html": [
       "<table>\n",
       "<thead>\n",
       "<tr><th>Query                                                                                     </th><th>Result                                                                                                                                                                                                                                                                                                                                           </th><th>Source Documents                                                                                    </th></tr>\n",
       "</thead>\n",
       "<tbody>\n",
       "<tr><td>When I did my Bachlor&#x27;s in Digitale Technologien, which master&#x27;s degree can you recommend?</td><td>Based on your background in Digital Technologies, I would recommend considering the Master&#x27;s program in Informatik or Wirtschaftsinformatik at Fachhochschule Bielefeld. Both of these programs align with your previous studies and can provide you with further knowledge and skills in the field of computer science and business informatics.</td><td>data/Studiengangsprüfungsordnung für den Masterstudiengang Forschungsmaster Data Science.pdf        </td></tr>\n",
       "<tr><td>                                                                                          </td><td>                                                                                                                                                                                                                                                                                                                                                 </td><td>data/Studiengangsprüfungsordnung für den weiterbildenden Masterstudiengang Digitale Technologien.pdf</td></tr>\n",
       "</tbody>\n",
       "</table>"
      ],
      "text/plain": [
       "'<table>\\n<thead>\\n<tr><th>Query                                                                                     </th><th>Result                                                                                                                                                                                                                                                                                                                                           </th><th>Source Documents                                                                                    </th></tr>\\n</thead>\\n<tbody>\\n<tr><td>When I did my Bachlor&#x27;s in Digitale Technologien, which master&#x27;s degree can you recommend?</td><td>Based on your background in Digital Technologies, I would recommend considering the Master&#x27;s program in Informatik or Wirtschaftsinformatik at Fachhochschule Bielefeld. Both of these programs align with your previous studies and can provide you with further knowledge and skills in the field of computer science and business informatics.</td><td>data/Studiengangsprüfungsordnung für den Masterstudiengang Forschungsmaster Data Science.pdf        </td></tr>\\n<tr><td>                                                                                          </td><td>                                                                                                                                                                                                                                                                                                                                                 </td><td>data/Studiengangsprüfungsordnung für den weiterbildenden Masterstudiengang Digitale Technologien.pdf</td></tr>\\n</tbody>\\n</table>'"
      ]
     },
     "execution_count": 6,
     "metadata": {},
     "output_type": "execute_result"
    }
   ],
   "source": [
    "display_response(run_studysearch(input=\"When I did my Bachlor's in Digitale Technologien, which master's degree can you recommend?\"))"
   ]
  },
  {
   "cell_type": "code",
   "execution_count": null,
   "id": "a150982f",
   "metadata": {
    "editable": true,
    "slideshow": {
     "slide_type": "subslide"
    },
    "tags": []
   },
   "outputs": [],
   "source": [
    "resp = run_studysearch(input=\"When I did my Bachelor's in Digitale Technologien, which master's degree of other universities can you recommend?\")"
   ]
  },
  {
   "cell_type": "code",
   "execution_count": 4,
   "id": "75ff0e5c",
   "metadata": {
    "editable": true,
    "slideshow": {
     "slide_type": ""
    },
    "tags": []
   },
   "outputs": [
    {
     "data": {
      "text/html": [
       "<table>\n",
       "<thead>\n",
       "<tr><th>Query                                                                                                           </th><th>Result  </th><th>Source Documents                                                                                    </th></tr>\n",
       "</thead>\n",
       "<tbody>\n",
       "<tr><td>When I did my Bachlor&#x27;s in Digitale Technologien, which master&#x27;s degree of other universities can you recommend?</td><td>Based on your background in Digital Technologies, you may be interested in pursuing a Master&#x27;s degree in related fields such as:\n",
       "\n",
       "1. Informatics or Computer Science at other universities that offer strong programs in this area.\n",
       "2. Data Science or Data Analytics, which can provide you with advanced skills in data analysis and interpretation.\n",
       "3. Information Systems or Management Information Systems, which can help you develop a deeper understanding of how technology can be used to support business operations.\n",
       "4. Cybersecurity, which can provide you with the knowledge and skills needed to protect digital systems and networks from threats.\n",
       "5. Digital Media or Interaction Design, which can help you create innovative digital products and services that meet user needs.\n",
       "\n",
       "Please note that these are just suggestions based on your background in Digital Technologies, and ities, and other universities, and theologies, and ities, and ities, and ities, and ities, and ities, and you may have not all other universities, and ities, and ities, and that may be sure if you should consult with no further research. Other universities, and ities, and ities, and theologies, and it         </td><td>data/Studiengangsprüfungsordnung für den weiterbildenden Masterstudiengang Digitale Technologien.pdf</td></tr>\n",
       "<tr><td>                                                                                                                </td><td>        </td><td>data/Studiengangsprüfungsordnung für den Masterstudiengang Forschungsmaster Data Science.pdf        </td></tr>\n",
       "</tbody>\n",
       "</table>"
      ],
      "text/plain": [
       "'<table>\\n<thead>\\n<tr><th>Query                                                                                                           </th><th>Result  </th><th>Source Documents                                                                                    </th></tr>\\n</thead>\\n<tbody>\\n<tr><td>When I did my Bachlor&#x27;s in Digitale Technologien, which master&#x27;s degree of other universities can you recommend?</td><td>Based on your background in Digital Technologies, you may be interested in pursuing a Master&#x27;s degree in related fields such as:\\n\\n1. Informatics or Computer Science at other universities that offer strong programs in this area.\\n2. Data Science or Data Analytics, which can provide you with advanced skills in data analysis and interpretation.\\n3. Information Systems or Management Information Systems, which can help you develop a deeper understanding of how technology can be used to support business operations.\\n4. Cybersecurity, which can provide you with the knowledge and skills needed to protect digital systems and networks from threats.\\n5. Digital Media or Interaction Design, which can help you create innovative digital products and services that meet user needs.\\n\\nPlease note that these are just suggestions based on your background in Digital Technologies, and ities, and other universities, and theologies, and ities, and ities, and ities, and ities, and ities, and you may have not all other universities, and ities, and ities, and that may be sure if you should consult with no further research. Other universities, and ities, and ities, and theologies, and it         </td><td>data/Studiengangsprüfungsordnung für den weiterbildenden Masterstudiengang Digitale Technologien.pdf</td></tr>\\n<tr><td>                                                                                                                </td><td>        </td><td>data/Studiengangsprüfungsordnung für den Masterstudiengang Forschungsmaster Data Science.pdf        </td></tr>\\n</tbody>\\n</table>'"
      ]
     },
     "execution_count": 4,
     "metadata": {},
     "output_type": "execute_result"
    }
   ],
   "source": [
    "display_response(resp)"
   ]
  },
  {
   "cell_type": "code",
   "execution_count": null,
   "id": "c06fe9b8",
   "metadata": {
    "editable": true,
    "slideshow": {
     "slide_type": "subslide"
    },
    "tags": []
   },
   "outputs": [],
   "source": [
    "resp = run_studysearch(input=\"What can you tell me about the course of studies Finance and Information Management?\")"
   ]
  },
  {
   "cell_type": "code",
   "execution_count": 8,
   "id": "e0c78b3d",
   "metadata": {
    "editable": true,
    "slideshow": {
     "slide_type": ""
    },
    "tags": []
   },
   "outputs": [
    {
     "data": {
      "text/html": [
       "<table>\n",
       "<thead>\n",
       "<tr><th>Query                                                                               </th><th>Result  </th><th>Source Documents                                                  </th></tr>\n",
       "</thead>\n",
       "<tbody>\n",
       "<tr><td>What can you tell me about the course of studies Finance and Information Management?</td><td>The course of studies Finance and Information Management (FIM) is a master&#x27;s program offered by the Technical University of Munich (TUM) and the University of Bayreuth (UniBayreuth). The program is designed to provide students with a comprehensive education in finance and information management, including topics such as financial markets, investment analysis, risk management, and data analytics.\n",
       "\n",
       "The course of studies consists of several modules, including:\n",
       "\n",
       "* 48 credits in the core area of &quot;Finance and Information Management&quot; over two semesters (1./2. Semester)\n",
       "* 30 credits in elective modules from the core area over three semesters (3. Semester)\n",
       "* A master&#x27;s thesis worth 30 credits in the fourth semester (4. Semester)\n",
       "\n",
       "The program is designed to be completed in four semesters, with a total of 12480 credits 90 credits 12480 credits 12480 credits 12480 credits 12480 credits 12480 credits 1248         </td><td>data/Finance_and_Information_Management_Gem._MA_LF_2_AS_121222.pdf</td></tr>\n",
       "</tbody>\n",
       "</table>"
      ],
      "text/plain": [
       "'<table>\\n<thead>\\n<tr><th>Query                                                                               </th><th>Result  </th><th>Source Documents                                                  </th></tr>\\n</thead>\\n<tbody>\\n<tr><td>What can you tell me about the course of studies Finance and Information Management?</td><td>The course of studies Finance and Information Management (FIM) is a master&#x27;s program offered by the Technical University of Munich (TUM) and the University of Bayreuth (UniBayreuth). The program is designed to provide students with a comprehensive education in finance and information management, including topics such as financial markets, investment analysis, risk management, and data analytics.\\n\\nThe course of studies consists of several modules, including:\\n\\n* 48 credits in the core area of &quot;Finance and Information Management&quot; over two semesters (1./2. Semester)\\n* 30 credits in elective modules from the core area over three semesters (3. Semester)\\n* A master&#x27;s thesis worth 30 credits in the fourth semester (4. Semester)\\n\\nThe program is designed to be completed in four semesters, with a total of 12480 credits 90 credits 12480 credits 12480 credits 12480 credits 12480 credits 12480 credits 1248         </td><td>data/Finance_and_Information_Management_Gem._MA_LF_2_AS_121222.pdf</td></tr>\\n</tbody>\\n</table>'"
      ]
     },
     "execution_count": 8,
     "metadata": {},
     "output_type": "execute_result"
    }
   ],
   "source": [
    "display_response(resp)"
   ]
  },
  {
   "cell_type": "markdown",
   "id": "7e9e8d00-8e25-413c-940a-0db72e21b161",
   "metadata": {
    "editable": true,
    "slideshow": {
     "slide_type": "skip"
    },
    "tags": []
   },
   "source": [
    "# Literatur\n",
    "\n",
    "+ [APMB21]: van Aken, Betty ; Papaioannou, Jens-Michalis ; Mayrdorfer, Manuel ; Budde, Klemens ; Gers, Felix A. ; Löser, Alexander: Clinical Outcome Prediction from Admission Notes using Self-Supervised Knowledge Integration, arXiv (2021). — arXiv:2102.04110\n",
    "\n",
    "+ [Chas22]  Chase, Harrison: LangChain. URL: https://github.com/langchain-ai/langchain\n",
    "  \n",
    "\n",
    "+ [HBPK17]: Holzinger, Andreas ; Biemann, Chris ; Pattichis, Constantinos S. ; Kell, Douglas B.: What do we need to build explainable AI systems for the medical domain?, arXiv (2017). — arXiv:1712.09923\n",
    "\n",
    "+ [JoDJ19]: Johnson, Jeff ; Douze, Matthijs ; Jégou, Hervé: Billion-scale similarity search with GPUs. In: IEEE Transactions on Big Data Bd. 7, IEEE (2019), Nr. 3, S. 535–547. URL: https://github.com/facebookresearch/faiss\n",
    "\n",
    "+ [KGEW22]: Kraus, Dr. Thomas ; Ganschow, Lene ; Eisenträger, Marlene ; Wischmann, Dr. Steffen: EXPLAINABLE AI: Requirements, Use Cases and Solutions, Bundesministerium für Wirtschaft und Klimaschutz (Hrsg.).\n",
    "\n",
    "+ [Leun23]: Leung, Kenneth: Running Llama 2 and other Open-Source LLMs on CPU Inference Locally for Document Q&A. URL: https://github.com/kennethleungty/Llama-2-Open-Source-LLM-CPU-Inference\n"
   ]
  }
 ],
 "metadata": {
  "kernelspec": {
   "display_name": "Python 3 (ipykernel)",
   "language": "python",
   "name": "python3"
  },
  "language_info": {
   "codemirror_mode": {
    "name": "ipython",
    "version": 3
   },
   "file_extension": ".py",
   "mimetype": "text/x-python",
   "name": "python",
   "nbconvert_exporter": "python",
   "pygments_lexer": "ipython3",
   "version": "3.10.12"
  }
 },
 "nbformat": 4,
 "nbformat_minor": 5
}
