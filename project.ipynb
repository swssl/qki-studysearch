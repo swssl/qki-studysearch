{
 "cells": [
  {
   "cell_type": "markdown",
   "id": "ae6f6974",
   "metadata": {
    "editable": true,
    "slideshow": {
     "slide_type": "slide"
    },
    "tags": []
   },
   "source": [
    "# Erklärbare KI\n",
    "\n",
    "## `Einbindung von externen Wissensbasen`"
   ]
  },
  {
   "cell_type": "markdown",
   "id": "31bf4268",
   "metadata": {
    "editable": true,
    "slideshow": {
     "slide_type": "slide"
    },
    "tags": []
   },
   "source": [
    "## Inhaltsverzeichnis\n",
    "\n"
   ]
  },
  {
   "cell_type": "markdown",
   "id": "afaaa1a3",
   "metadata": {
    "editable": true,
    "slideshow": {
     "slide_type": "slide"
    },
    "tags": []
   },
   "source": [
    "### Beschreibung der Methode\n",
    "\n",
    "+ Grundlegend: Vorhandensein einer Wissensbasis\n",
    "+ Erster Schritt: Wissensbasis wird während des Trainings genutzt, um das Modell zu erstellen\n",
    "+ Zweiter Schritt: Vom KI-Modell getroffene Entscheidungen mit konkreten Einträgen in der Wissensbasis begründen zu können"
   ]
  },
  {
   "cell_type": "markdown",
   "id": "9b2aa87e",
   "metadata": {
    "editable": true,
    "slideshow": {
     "slide_type": "slide"
    },
    "tags": []
   },
   "source": [
    "### Allgemeines\n",
    "\n",
    "+ Die Ausgabe der KI ist eine Entscheidung und zusätzlich eine Erklärung der Entscheidung\n",
    "+ Methode ist auf alle Klassifikationsverfahren anwendbar\n",
    "+ Funktioniert am besten für Klassifikationsprobleme, bei denen Texte als Inputs verwenden werden\n"
   ]
  },
  {
   "cell_type": "markdown",
   "id": "11363d16",
   "metadata": {
    "editable": true,
    "slideshow": {
     "slide_type": "slide"
    },
    "tags": []
   },
   "source": [
    "### Vorteile\n",
    "+ Leicht nachvollziehbar \n",
    "+ Kombination mehrerer Wissensbasen möglich\n",
    "+ Erhöht Vertrauen\n",
    "+ Hilft bei der Frage nach der  Verantwortlichkeit\n",
    "\n",
    "### Nachteile\n",
    "\n",
    "+ Abhängig von Qualität der Wissensbasis\n",
    "+ Aufbau der Wissensbasis zeitaufwendig\n"
   ]
  },
  {
   "cell_type": "markdown",
   "id": "2e693602",
   "metadata": {
    "editable": true,
    "slideshow": {
     "slide_type": "slide"
    },
    "tags": []
   },
   "source": [
    "### Beispiele\n",
    "\n",
    "+ Medizinische Anwendung\n",
    "    + anhand von Symptomen Krankheit vorhersagen und anschließend Vorhersage mit Publikationen unterstützen\n",
    "+ Home-Automation\n",
    "+ Bilderkennung\n"
   ]
  },
  {
   "cell_type": "markdown",
   "id": "65d332f7",
   "metadata": {
    "editable": true,
    "slideshow": {
     "slide_type": "slide"
    },
    "tags": []
   },
   "source": [
    "## Praktische Umsetzung\n",
    "Mittels Retrieval-augmented generation (RAG) und auf Basis von [Leun23] und Llama 2"
   ]
  },
  {
   "cell_type": "code",
   "execution_count": 1,
   "id": "c44f47e8",
   "metadata": {
    "editable": true,
    "slideshow": {
     "slide_type": "fragment"
    },
    "tags": []
   },
   "outputs": [],
   "source": [
    "import pickle\n",
    "from tabulate import tabulate\n",
    "import pandas as pd\n",
    "from studysearch.run import run as run_studysearch"
   ]
  },
  {
   "cell_type": "markdown",
   "id": "511f7f82",
   "metadata": {},
   "source": [
    "## 2. Einlesen neuer Textdaten"
   ]
  },
  {
   "cell_type": "markdown",
   "id": "555fd691",
   "metadata": {},
   "source": [
    "![](assets/rag_indexing-8160f90a90a33253d0154659cf7d453f.png)"
   ]
  },
  {
   "cell_type": "markdown",
   "id": "14a31c2c",
   "metadata": {},
   "source": [
    "Zum Einlesen neuer Dokumente wird das Skript `build_db.py` ausgeführt. Es ließt die vorhandenen Dokumente, teil den Text in sog. chunks ein und speichert die vektorisierten Textdaten mithilfe von [JoDJ19] in eine .faiss-Datei."
   ]
  },
  {
   "cell_type": "code",
   "execution_count": null,
   "id": "7119ae34",
   "metadata": {},
   "outputs": [],
   "source": [
    "!python dp_build.py"
   ]
  },
  {
   "cell_type": "markdown",
   "id": "35bf6fd4",
   "metadata": {
    "editable": true,
    "slideshow": {
     "slide_type": "subslide"
    },
    "tags": []
   },
   "source": [
    "## 2. Anfrage an das LLM"
   ]
  },
  {
   "cell_type": "markdown",
   "id": "44861a16",
   "metadata": {},
   "source": [
    "![](assets/rag_retrieval_generation-1046a4668d6bb08786ef73c56d4f228a.png)"
   ]
  },
  {
   "cell_type": "code",
   "execution_count": null,
   "id": "f72a0123",
   "metadata": {
    "editable": true,
    "slideshow": {
     "slide_type": "fragment"
    },
    "tags": []
   },
   "outputs": [],
   "source": [
    "resp = run_studysearch(input=\"Worum geht es in dem Studiengang Digitale Technologien?\")\n",
    "pickle.dump(resp, open(\"./resp.pkl\", \"wb\"))"
   ]
  },
  {
   "cell_type": "markdown",
   "id": "33c89312",
   "metadata": {
    "editable": true,
    "slideshow": {
     "slide_type": "subslide"
    },
    "tags": []
   },
   "source": [
    "### 2.2 Import einer zuvor gesicherten Antwort"
   ]
  },
  {
   "cell_type": "code",
   "execution_count": 2,
   "id": "a1517001",
   "metadata": {
    "editable": true,
    "slideshow": {
     "slide_type": "fragment"
    },
    "tags": []
   },
   "outputs": [],
   "source": [
    "resp = pickle.load(open(\"resp.pkl\", \"rb\"))"
   ]
  },
  {
   "cell_type": "code",
   "execution_count": 3,
   "id": "233a23f0-cc50-4e57-b51f-89196e419257",
   "metadata": {},
   "outputs": [
    {
     "data": {
      "text/plain": [
       "{'query': 'Worum geht es in dem Studiengang Digitale Technologien?',\n",
       " 'result': 'The study program \"Digitale Technologien (praxisintegriert)\" focuses on the practical application of digital technologies in various fields, such as software development, data analytics, cybersecurity, and more. The course aims to provide students with a comprehensive understanding of the theoretical foundations of digital technologies and their practical applications in real-world scenarios.',\n",
       " 'source_documents': [Document(page_content='Digitale Technologien (praxisintegriert) B.Eng.  \\n9 Stellenwert der Note für die Endnote:  \\ngemäß BRPO  \\n10 Modulbeauftragte/r:  \\nProf. Dr. rer. oec. Pascal Reusch  \\n11 Sonstige Informationen:  \\n \\n12 Sprache:  \\ndeutsch', metadata={'source': 'data/Studiengangsprüfungsordnung und Modulhandbuch Bachelor Digitale Technologien praxisintegriert Version 18.pdf', 'page': 34}),\n",
       "  Document(page_content='Digitale Technologien (praxisintegriert) B.Eng.  \\n9 Stellenwert der Note für die Endnote:  \\n \\n10 Modulbeauftragte/r:  \\n- N. N.  \\n11 Sonstige Informationen:  \\n \\n12 Sprache:  \\ndeutsch', metadata={'source': 'data/Studiengangsprüfungsordnung und Modulhandbuch Bachelor Digitale Technologien praxisintegriert Version 18.pdf', 'page': 86})]}"
      ]
     },
     "execution_count": 3,
     "metadata": {},
     "output_type": "execute_result"
    }
   ],
   "source": [
    "resp"
   ]
  },
  {
   "cell_type": "markdown",
   "id": "952b5a3e",
   "metadata": {
    "editable": true,
    "slideshow": {
     "slide_type": "subslide"
    },
    "tags": []
   },
   "source": [
    "## 3. Ausgabe"
   ]
  },
  {
   "cell_type": "markdown",
   "id": "b9d70009",
   "metadata": {},
   "source": [
    "### 3.1 Definition einer Formatierungsfunktion"
   ]
  },
  {
   "cell_type": "markdown",
   "id": "2128ce10",
   "metadata": {},
   "source": [
    "Um die Ausgabe der Antwort des LLM an die Jupyter Notebook-Umgebung anzupassen, wird die Funktion `display_response(resp_dict: dict)` definiert. Diese wandelt die Antwort in Form eines `dict` in HTML-Code um."
   ]
  },
  {
   "cell_type": "code",
   "execution_count": 3,
   "id": "5ead172b-f50c-41e4-8194-8e9b04fcebd5",
   "metadata": {},
   "outputs": [],
   "source": [
    "def display_response(resp_dict: dict) -> str:\n",
    "    \"\"\"Render response in HTML using pandas and tabulate.\n",
    "\n",
    "    Args:\n",
    "        resp_dict (dict): The raw response dict eiher unpickled or from the LLM\n",
    "\n",
    "    Returns:\n",
    "        str: tabulate-generated HTML code\n",
    "    \"\"\"\n",
    "    resp_dict = resp_dict.copy()\n",
    "    resp_dict[\"source_documents\"] = [src.metadata['source'] for src in resp_dict[\"source_documents\"]]\n",
    "    resp_df = pd.DataFrame(resp_dict).rename(columns={\"query\": \"Query\", \"result\": \"Result\", \"source_documents\": \"Source Documents\"})\n",
    "    for i in range(1, len(resp_dict[\"source_documents\"])):\n",
    "        resp_df.loc[i, \"Query\"] = \"\"\n",
    "        resp_df.loc[i, \"Result\"] = \"\"\n",
    "    resp_df.drop_duplicates(subset=[\"Source Documents\"], inplace=True, keep=\"first\")\n",
    "    return tabulate(resp_df, tablefmt=\"html\", headers=\"keys\", showindex=False)"
   ]
  },
  {
   "cell_type": "markdown",
   "id": "817bd6c4",
   "metadata": {},
   "source": [
    "### 3.2 Ausgabe der Antwort"
   ]
  },
  {
   "cell_type": "markdown",
   "id": "a7a8b44b",
   "metadata": {},
   "source": [
    "Als Ergebnis erhält man neben der Antwort des LLM auch die Quell-Dokumente, die das Modell zum Finden der Antwort verwendet hat:"
   ]
  },
  {
   "cell_type": "code",
   "execution_count": 5,
   "id": "f322899d-761c-44d0-84a7-181dc814fd19",
   "metadata": {},
   "outputs": [
    {
     "data": {
      "text/html": [
       "<table>\n",
       "<thead>\n",
       "<tr><th>Query                                                  </th><th>Result                                                                                                                                                                                                                                                                                                                                                                                                     </th><th>Source Documents                                                                                                 </th></tr>\n",
       "</thead>\n",
       "<tbody>\n",
       "<tr><td>Worum geht es in dem Studiengang Digitale Technologien?</td><td>The study program &quot;Digitale Technologien (praxisintegriert)&quot; focuses on the practical application of digital technologies in various fields, such as software development, data analytics, cybersecurity, and more. The course aims to provide students with a comprehensive understanding of the theoretical foundations of digital technologies and their practical applications in real-world scenarios.</td><td>data/Studiengangsprüfungsordnung und Modulhandbuch Bachelor Digitale Technologien praxisintegriert Version 18.pdf</td></tr>\n",
       "</tbody>\n",
       "</table>"
      ],
      "text/plain": [
       "'<table>\\n<thead>\\n<tr><th>Query                                                  </th><th>Result                                                                                                                                                                                                                                                                                                                                                                                                     </th><th>Source Documents                                                                                                 </th></tr>\\n</thead>\\n<tbody>\\n<tr><td>Worum geht es in dem Studiengang Digitale Technologien?</td><td>The study program &quot;Digitale Technologien (praxisintegriert)&quot; focuses on the practical application of digital technologies in various fields, such as software development, data analytics, cybersecurity, and more. The course aims to provide students with a comprehensive understanding of the theoretical foundations of digital technologies and their practical applications in real-world scenarios.</td><td>data/Studiengangsprüfungsordnung und Modulhandbuch Bachelor Digitale Technologien praxisintegriert Version 18.pdf</td></tr>\\n</tbody>\\n</table>'"
      ]
     },
     "execution_count": 5,
     "metadata": {},
     "output_type": "execute_result"
    }
   ],
   "source": [
    "display_response(resp)"
   ]
  },
  {
   "cell_type": "markdown",
   "id": "c005e53e-8041-4c50-b86f-a3f13c679b05",
   "metadata": {},
   "source": [
    "## Beispiele"
   ]
  },
  {
   "cell_type": "code",
   "execution_count": null,
   "metadata": {},
   "outputs": [],
   "source": [
    "display_response(run_studysearch(input=\"Worum geht es in dem Studiengang Digitale Technologien?\"))"
   ]
  },
  {
   "cell_type": "code",
   "execution_count": 4,
   "metadata": {},
   "outputs": [
    {
     "name": "stderr",
     "output_type": "stream",
     "text": [
      "/home/simon/Development/qki-studysearch/.venv/lib/python3.10/site-packages/tqdm/auto.py:21: TqdmWarning: IProgress not found. Please update jupyter and ipywidgets. See https://ipywidgets.readthedocs.io/en/stable/user_install.html\n",
      "  from .autonotebook import tqdm as notebook_tqdm\n"
     ]
    },
    {
     "data": {
      "text/html": [
       "<table>\n",
       "<thead>\n",
       "<tr><th>Query                                                                                                  </th><th>Result                                                                                                                                                                                                                                                                                                                                                                                                                                                                                                                                                                                                                                         </th><th>Source Documents                                                                                                       </th></tr>\n",
       "</thead>\n",
       "<tbody>\n",
       "<tr><td>Worum geht es in dem Modul Qualitätssicherung für KI-Systeme aus dem Studiengang Digitale Technologien?</td><td>In the module Quality Assurance for AI Systems, students learn about the importance of quality assurance in the development and deployment of AI systems. They will understand how to identify and mitigate potential risks associated with AI systems, such as bias, security, and privacy concerns. Additionally, they will learn how to design and implement quality control processes for AI systems, including testing, validation, and verification methods. The module will also cover the ethical considerations of AI system development and deployment, and how to ensure that AI systems are aligned with societal values and norms.</td><td>data/Studiengangsprüfungsordnung und Modulhandbuch Bachelor Wirtschaftsingenieurwesen praxisintegriert Version 18.pdf  </td></tr>\n",
       "<tr><td>                                                                                                       </td><td>                                                                                                                                                                                                                                                                                                                                                                                                                                                                                                                                                                                                                                               </td><td>data/Studiengangsprüfungsordnung und Modulhandbuch Bachelor Mechatronik_Automatisierung praxisintegriert Version 18.pdf</td></tr>\n",
       "</tbody>\n",
       "</table>"
      ],
      "text/plain": [
       "'<table>\\n<thead>\\n<tr><th>Query                                                                                                  </th><th>Result                                                                                                                                                                                                                                                                                                                                                                                                                                                                                                                                                                                                                                         </th><th>Source Documents                                                                                                       </th></tr>\\n</thead>\\n<tbody>\\n<tr><td>Worum geht es in dem Modul Qualitätssicherung für KI-Systeme aus dem Studiengang Digitale Technologien?</td><td>In the module Quality Assurance for AI Systems, students learn about the importance of quality assurance in the development and deployment of AI systems. They will understand how to identify and mitigate potential risks associated with AI systems, such as bias, security, and privacy concerns. Additionally, they will learn how to design and implement quality control processes for AI systems, including testing, validation, and verification methods. The module will also cover the ethical considerations of AI system development and deployment, and how to ensure that AI systems are aligned with societal values and norms.</td><td>data/Studiengangsprüfungsordnung und Modulhandbuch Bachelor Wirtschaftsingenieurwesen praxisintegriert Version 18.pdf  </td></tr>\\n<tr><td>                                                                                                       </td><td>                                                                                                                                                                                                                                                                                                                                                                                                                                                                                                                                                                                                                                               </td><td>data/Studiengangsprüfungsordnung und Modulhandbuch Bachelor Mechatronik_Automatisierung praxisintegriert Version 18.pdf</td></tr>\\n</tbody>\\n</table>'"
      ]
     },
     "execution_count": 4,
     "metadata": {},
     "output_type": "execute_result"
    }
   ],
   "source": [
    "display_response(run_studysearch(input=\"Worum geht es in dem Modul Qualitätssicherung für KI-Systeme aus dem Studiengang Digitale Technologien?\"))"
   ]
  },
  {
   "cell_type": "code",
   "execution_count": 5,
   "metadata": {},
   "outputs": [
    {
     "data": {
      "text/html": [
       "<table>\n",
       "<thead>\n",
       "<tr><th>Query                                                                                                              </th><th>Result                                                                                                                                       </th><th>Source Documents                                                                                            </th></tr>\n",
       "</thead>\n",
       "<tbody>\n",
       "<tr><td>What is the topic of the lecture Qualitaetssicherung für KI-Systeme from the course of study Digitale Technologien?</td><td>The topic of the lecture Qualitaetssicherung für KI-Systeme from the course of study Digitale Technologien is ensuring quality in AI systems.</td><td>data/Studiengangsprüfungsordnung für den Masterstudiengang Forschungsmaster Data Science.pdf                </td></tr>\n",
       "<tr><td>                                                                                                                   </td><td>                                                                                                                                             </td><td>data/Studiengangsprüfungsordnung und Modulhandbuch Bachelor Angewandte Hebammenwissenschaft Version 2022.pdf</td></tr>\n",
       "</tbody>\n",
       "</table>"
      ],
      "text/plain": [
       "'<table>\\n<thead>\\n<tr><th>Query                                                                                                              </th><th>Result                                                                                                                                       </th><th>Source Documents                                                                                            </th></tr>\\n</thead>\\n<tbody>\\n<tr><td>What is the topic of the lecture Qualitaetssicherung für KI-Systeme from the course of study Digitale Technologien?</td><td>The topic of the lecture Qualitaetssicherung für KI-Systeme from the course of study Digitale Technologien is ensuring quality in AI systems.</td><td>data/Studiengangsprüfungsordnung für den Masterstudiengang Forschungsmaster Data Science.pdf                </td></tr>\\n<tr><td>                                                                                                                   </td><td>                                                                                                                                             </td><td>data/Studiengangsprüfungsordnung und Modulhandbuch Bachelor Angewandte Hebammenwissenschaft Version 2022.pdf</td></tr>\\n</tbody>\\n</table>'"
      ]
     },
     "execution_count": 5,
     "metadata": {},
     "output_type": "execute_result"
    }
   ],
   "source": [
    "display_response(run_studysearch(input=\"What is the topic of the lecture Qualitaetssicherung für KI-Systeme from the course of study Digitale Technologien?\"))"
   ]
  },
  {
   "cell_type": "code",
   "execution_count": 6,
   "metadata": {},
   "outputs": [
    {
     "data": {
      "text/html": [
       "<table>\n",
       "<thead>\n",
       "<tr><th>Query                                                                                     </th><th>Result                                                                                                                                                                                                                                                                                                                                           </th><th>Source Documents                                                                                    </th></tr>\n",
       "</thead>\n",
       "<tbody>\n",
       "<tr><td>When I did my Bachlor&#x27;s in Digitale Technologien, which master&#x27;s degree can you recommend?</td><td>Based on your background in Digital Technologies, I would recommend considering the Master&#x27;s program in Informatik or Wirtschaftsinformatik at Fachhochschule Bielefeld. Both of these programs align with your previous studies and can provide you with further knowledge and skills in the field of computer science and business informatics.</td><td>data/Studiengangsprüfungsordnung für den Masterstudiengang Forschungsmaster Data Science.pdf        </td></tr>\n",
       "<tr><td>                                                                                          </td><td>                                                                                                                                                                                                                                                                                                                                                 </td><td>data/Studiengangsprüfungsordnung für den weiterbildenden Masterstudiengang Digitale Technologien.pdf</td></tr>\n",
       "</tbody>\n",
       "</table>"
      ],
      "text/plain": [
       "'<table>\\n<thead>\\n<tr><th>Query                                                                                     </th><th>Result                                                                                                                                                                                                                                                                                                                                           </th><th>Source Documents                                                                                    </th></tr>\\n</thead>\\n<tbody>\\n<tr><td>When I did my Bachlor&#x27;s in Digitale Technologien, which master&#x27;s degree can you recommend?</td><td>Based on your background in Digital Technologies, I would recommend considering the Master&#x27;s program in Informatik or Wirtschaftsinformatik at Fachhochschule Bielefeld. Both of these programs align with your previous studies and can provide you with further knowledge and skills in the field of computer science and business informatics.</td><td>data/Studiengangsprüfungsordnung für den Masterstudiengang Forschungsmaster Data Science.pdf        </td></tr>\\n<tr><td>                                                                                          </td><td>                                                                                                                                                                                                                                                                                                                                                 </td><td>data/Studiengangsprüfungsordnung für den weiterbildenden Masterstudiengang Digitale Technologien.pdf</td></tr>\\n</tbody>\\n</table>'"
      ]
     },
     "execution_count": 6,
     "metadata": {},
     "output_type": "execute_result"
    }
   ],
   "source": [
    "display_response(run_studysearch(input=\"When I did my Bachlor's in Digitale Technologien, which master's degree can you recommend?\"))"
   ]
  },
  {
   "cell_type": "code",
   "execution_count": null,
   "metadata": {},
   "outputs": [],
   "source": [
    "display_response(run_studysearch(input=\"When I did my Bachlor's in Digitale Technologien, which master's degree of other universities can you recommend?\"))"
   ]
  }
 ],
 "metadata": {
  "kernelspec": {
   "display_name": "Python 3 (ipykernel)",
   "language": "python",
   "name": "python3"
  },
  "language_info": {
   "codemirror_mode": {
    "name": "ipython",
    "version": 3
   },
   "file_extension": ".py",
   "mimetype": "text/x-python",
   "name": "python",
   "nbconvert_exporter": "python",
   "pygments_lexer": "ipython3",
   "version": "3.10.12"
  }
 },
 "nbformat": 4,
 "nbformat_minor": 5
}
