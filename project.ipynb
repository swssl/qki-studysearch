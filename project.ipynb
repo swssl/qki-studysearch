{
 "cells": [
  {
   "cell_type": "markdown",
   "id": "53ef283e",
   "metadata": {},
   "source": [
    "# Einbindung von externen Wissensbasen"
   ]
  },
  {
   "cell_type": "code",
   "execution_count": 1,
   "id": "bf470834-8b44-4fe8-9446-46fb30a07e16",
   "metadata": {},
   "outputs": [
    {
     "name": "stdout",
     "output_type": "stream",
     "text": [
      "\n",
      "Answer: The study program \"Digitale Technologien (praxisintegriert)\" focuses on the practical application of digital technologies in various industries. The program covers a wide range of topics, including software development, data analytics, cybersecurity, and digital transformation. The goal is to provide students with a comprehensive understanding of how digital technologies are used in real-world scenarios and how they can be applied to solve complex problems.\n",
      "==================================================\n",
      "\n",
      "Source Document 1\n",
      "\n",
      "Source Text: Digitale Technologien (praxisintegriert) B.Eng.  \n",
      "9 Stellenwert der Note für die Endnote:  \n",
      "gemäß BRPO  \n",
      "10 Modulbeauftragte/r:  \n",
      "Prof. Dr. rer. oec. Pascal Reusch  \n",
      "11 Sonstige Informationen:  \n",
      " \n",
      "12 Sprache:  \n",
      "deutsch\n",
      "Document Name: data/Studiengangsprüfungsordnung und Modulhandbuch Bachelor Digitale Technologien praxisintegriert Version 18.pdf\n",
      "Page Number: 34\n",
      "\n",
      "============================================================\n",
      "\n",
      "Source Document 2\n",
      "\n",
      "Source Text: Digitale Technologien (praxisintegriert) B.Eng.  \n",
      "9 Stellenwert der Note für die Endnote:  \n",
      " \n",
      "10 Modulbeauftragte/r:  \n",
      "- N. N.  \n",
      "11 Sonstige Informationen:  \n",
      " \n",
      "12 Sprache:  \n",
      "deutsch\n",
      "Document Name: data/Studiengangsprüfungsordnung und Modulhandbuch Bachelor Digitale Technologien praxisintegriert Version 18.pdf\n",
      "Page Number: 86\n",
      "\n",
      "============================================================\n",
      "Time to retrieve response: 185.30611330399915\n"
     ]
    }
   ],
   "source": [
    "!python main.py --input \"Worum geht es in dem Studiengang Digitale Technologien?\""
   ]
  }
 ],
 "metadata": {
  "kernelspec": {
   "display_name": "Python 3 (ipykernel)",
   "language": "python",
   "name": "python3"
  },
  "language_info": {
   "codemirror_mode": {
    "name": "ipython",
    "version": 3
   },
   "file_extension": ".py",
   "mimetype": "text/x-python",
   "name": "python",
   "nbconvert_exporter": "python",
   "pygments_lexer": "ipython3",
   "version": "3.10.12"
  }
 },
 "nbformat": 4,
 "nbformat_minor": 5
}
